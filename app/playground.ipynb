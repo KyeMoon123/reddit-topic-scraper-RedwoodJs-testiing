{
 "cells": [
  {
   "cell_type": "code",
   "execution_count": 18,
   "metadata": {},
   "outputs": [],
   "source": [
    "from src.service import nlp\n",
    "import numpy as np"
   ]
  },
  {
   "cell_type": "code",
   "execution_count": 66,
   "metadata": {},
   "outputs": [],
   "source": [
    "from pymilvus import *\n",
    "client = connections.connect(\"default\", host=\"localhost\", port=\"19530\")"
   ]
  },
  {
   "cell_type": "code",
   "execution_count": null,
   "metadata": {},
   "outputs": [],
   "source": [
    "from pymilvus import *\n",
    "client = connections.connect(\"default\", host=\"localhost\", port=\"19530\")"
   ]
  },
  {
   "cell_type": "code",
   "execution_count": null,
   "metadata": {},
   "outputs": [],
   "source": [
    "from pymilvus import *\n",
    "client = connections.connect(\"default\", host=\"localhost\", port=\"19530\")"
   ]
  },
  {
   "cell_type": "code",
   "execution_count": 65,
   "metadata": {},
   "outputs": [
    {
     "ename": "AttributeError",
     "evalue": "'NoneType' object has no attribute 'list_collections'",
     "output_type": "error",
     "traceback": [
      "\u001b[0;31m---------------------------------------------------------------------------\u001b[0m",
      "\u001b[0;31mAttributeError\u001b[0m                            Traceback (most recent call last)",
      "Cell \u001b[0;32mIn [65], line 1\u001b[0m\n\u001b[0;32m----> 1\u001b[0m \u001b[43mclient\u001b[49m\u001b[38;5;241;43m.\u001b[39;49m\u001b[43mlist_collections\u001b[49m()\n",
      "\u001b[0;31mAttributeError\u001b[0m: 'NoneType' object has no attribute 'list_collections'"
     ]
    }
   ],
   "source": [
    "client.list_collections()"
   ]
  },
  {
   "cell_type": "code",
   "execution_count": null,
   "metadata": {},
   "outputs": [],
   "source": [
    "COLLECTION_NAME = 'demo_films'\n",
    "PARTITION_NAME = 'Movie'\n",
    "\n",
    "pk = FieldSchema(name='pk', dtype=DataType.INT64, is_primary=True, auto_id=False)\n",
    "field = FieldSchema(name='vec', dtype=DataType.FLOAT_VECTOR, dim=384)\n",
    "schema = CollectionSchema(fields=[pk, field], description=\"movie recommender: demo films\")\n",
    "\n",
    "if utility._get_connection(\"default\").has_collection(COLLECTION_NAME): # drop the same collection created before\n",
    "    collection = Collection(COLLECTION_NAME)\n",
    "    collection.drop()\n",
    "else:\n",
    "    collection = Collection(name=COLLECTION_NAME, schema=schema)\n",
    "    partition = collection.create_partition(PARTITION_NAME)\n",
    "    print(\"Collection & partition are successfully created.\")\n",
    "print(collection)    "
   ]
  },
  {
   "cell_type": "code",
   "execution_count": null,
   "metadata": {},
   "outputs": [],
   "source": [
    "testStrings =[\"test string 1\",\"test string 2\",\"test sting3\"]\n",
    "ids2 = [1,2,3]\n",
    "embeddings2 =[]\n",
    "for string in testStrings:\n",
    "    embedding = await nlp.embed(string)\n",
    "    embeddings2.append(embedding.numpy())\n"
   ]
  },
  {
   "cell_type": "code",
   "execution_count": null,
   "metadata": {},
   "outputs": [],
   "source": [
    "print(collection)"
   ]
  },
  {
   "cell_type": "code",
   "execution_count": 60,
   "metadata": {},
   "outputs": [
    {
     "name": "stdout",
     "output_type": "stream",
     "text": [
      "<Collection>:\n",
      "-------------\n",
      "<name>: demo_films\n",
      "<partitions>: [{\"name\": \"_default\", \"collection_name\": \"demo_films\", \"description\": \"\"}, {\"name\": \"Movie\", \"collection_name\": \"demo_films\", \"description\": \"\"}]\n",
      "<description>: movie recommender: demo films\n",
      "<schema>: {\n",
      "  auto_id: False\n",
      "  description: movie recommender: demo films\n",
      "  fields: [{\n",
      "    name: pk\n",
      "    description: \n",
      "    type: 5\n",
      "    is_primary: True\n",
      "    auto_id: False\n",
      "  }, {\n",
      "    name: vec\n",
      "    description: \n",
      "    type: 101\n",
      "    params: {'dim': 384}\n",
      "  }]\n",
      "}\n",
      "\n",
      "here\n",
      "Record count in collection: 3\n"
     ]
    }
   ],
   "source": [
    "print(collection)\n",
    "if collection.num_entities != 0:\n",
    "    print(COLLECTION_NAME + \" is not empty!\")  \n",
    "else:\n",
    "    mr = collection.insert(data=[ids2,embeddings2], partition_name=PARTITION_NAME)\n",
    "    print(\"here\")\n",
    "\n",
    "print(\"Record count in collection: \" + str(collection.num_entities))"
   ]
  },
  {
   "cell_type": "code",
   "execution_count": 262,
   "metadata": {},
   "outputs": [],
   "source": [
    "from pymilvus import *\n",
    "client = connections.connect(\"default\", host=\"localhost\", port=\"19530\")"
   ]
  },
  {
   "cell_type": "code",
   "execution_count": 205,
   "metadata": {},
   "outputs": [],
   "source": [
    "COLLECTION_NAME = 'Messages'\n",
    "PARTITION_NAME = 'Reddit'\n",
    "collection = Collection(COLLECTION_NAME)\n",
    "\n"
   ]
  },
  {
   "cell_type": "code",
   "execution_count": 115,
   "metadata": {},
   "outputs": [
    {
     "data": {
      "text/plain": [
       "Status(code=0, message='')"
      ]
     },
     "execution_count": 115,
     "metadata": {},
     "output_type": "execute_result"
    }
   ],
   "source": [
    "index_param = {\n",
    "    \"metric_type\": \"L2\",\n",
    "    \"index_type\":\"IVF_FLAT\",\n",
    "    \"params\":{\"nlist\":1024}\n",
    "}\n",
    "collection.create_index(field_name=\"vec\", index_params=index_param)"
   ]
  },
  {
   "cell_type": "code",
   "execution_count": 263,
   "metadata": {},
   "outputs": [],
   "source": [
    "collection.load() # load collection memory before search\n",
    "\n",
    "topK = 10\n",
    "SEARCH_PARAM = {\n",
    "    \"metric_type\":\"L2\",\n",
    "    \"params\":{\"nprobe\": 20},\n",
    "}"
   ]
  },
  {
   "cell_type": "code",
   "execution_count": 264,
   "metadata": {},
   "outputs": [],
   "source": [
    "string=\"Email Automation\"\n",
    "embedding = await nlp.embed(string)"
   ]
  },
  {
   "cell_type": "code",
   "execution_count": 265,
   "metadata": {},
   "outputs": [
    {
     "data": {
      "text/plain": [
       "numpy.ndarray"
      ]
     },
     "execution_count": 265,
     "metadata": {},
     "output_type": "execute_result"
    }
   ],
   "source": [
    "type(embedding.numpy())"
   ]
  },
  {
   "cell_type": "code",
   "execution_count": 266,
   "metadata": {},
   "outputs": [],
   "source": [
    "results = collection.search([embedding.numpy()],\"vec\",param=SEARCH_PARAM, limit=topK, expr=None, output_fields=None)"
   ]
  },
  {
   "cell_type": "code",
   "execution_count": 207,
   "metadata": {},
   "outputs": [],
   "source": [
    "import os\n",
    "import asyncpraw\n",
    "import redis\n",
    "from dotenv import load_dotenv\n",
    "load_dotenv()\n",
    "\n",
    "r = redis.Redis(\n",
    "host=os.environ.get(\"REDIS_HOST\"),\n",
    "port=os.environ.get(\"REDIS_PORT\"),\n",
    "password=os.environ.get(\"REDIS_PASSWORD\"))\n",
    "\n",
    "reddit = asyncpraw.Reddit(\n",
    "client_id=\"lhCAjKV2lNlVn0msO6isUQ\",\n",
    "client_secret=\"sDVFmyCNxZSrZ6_Tod19dvqcv3az6w\",\n",
    "user_agent=\"Ironman\",\n",
    ")\n",
    "connections.connect(\"default\", host=\"localhost\", port=\"19530\")\n",
    "\n",
    "\n"
   ]
  },
  {
   "cell_type": "code",
   "execution_count": 237,
   "metadata": {},
   "outputs": [],
   "source": [
    "@staticmethod\n",
    "def decode(i: int) -> str:\n",
    "    b= i.to_bytes(((i.bit_length() + 7) // 8), byteorder='big')\n",
    "    return b.decode()  "
   ]
  },
  {
   "cell_type": "code",
   "execution_count": 267,
   "metadata": {},
   "outputs": [
    {
     "data": {
      "text/plain": [
       "['xeuf3v',\n",
       " 'x7lgpu',\n",
       " 'wv8012',\n",
       " 'x1gkyb',\n",
       " 'x7slzl',\n",
       " 'ws0kk0',\n",
       " 'wowva1',\n",
       " 'wtacom',\n",
       " 'wty1ro',\n",
       " 'xeugm8']"
      ]
     },
     "execution_count": 267,
     "metadata": {},
     "output_type": "execute_result"
    }
   ],
   "source": [
    "I = []\n",
    "for x in results:\n",
    "    for y in x.ids:\n",
    "        I.append(decode(y))\n",
    "I"
   ]
  },
  {
   "cell_type": "code",
   "execution_count": 268,
   "metadata": {},
   "outputs": [
    {
     "data": {
      "text/plain": [
       "['What ESP or SMTP do you use for cold emails?',\n",
       " \"How to get founder's emails at scale?\",\n",
       " 'Cold Email Template Ideas',\n",
       " 'Affiliate software',\n",
       " 'Content Marketing Tool',\n",
       " 'Building an automatic tasks manager for Social Media events.',\n",
       " 'MS-900 - Microsoft 365 Fundamentals Full Course to help those that need it',\n",
       " 'ABM tool for EU',\n",
       " 'How to find social profiles from email and phone?',\n",
       " 'Any affordable tools/software to manage digital contract for an advertising agency?']"
      ]
     },
     "execution_count": 268,
     "metadata": {},
     "output_type": "execute_result"
    }
   ],
   "source": [
    "recall_results = []\n",
    "for x in I:\n",
    "    recall_results.append(r.hget(\"message:{}\".format(x),\"text\").decode('utf-8'))\n",
    "recall_results"
   ]
  },
  {
   "cell_type": "code",
   "execution_count": 273,
   "metadata": {},
   "outputs": [],
   "source": [
    "async def semanticSearch(query):\n",
    "    print(query)\n",
    "    topK = 10\n",
    "    SEARCH_PARAM = {\n",
    "        \"metric_type\":\"L2\",\n",
    "        \"params\":{\"nprobe\": 10},\n",
    "    }\n",
    "    embedding = await nlp.embed(query)\n",
    "    print(type(embedding.numpy()))\n",
    "    results = collection.search([embedding.numpy()],\"vec\",param=SEARCH_PARAM, limit=topK, expr=None, output_fields=None)\n",
    "    I = []\n",
    "    for x in results:\n",
    "        for y in x.ids:\n",
    "            I.append(decode(y))\n",
    "    recall_results = []\n",
    "    for x in I:\n",
    "        recall_results.append(r.hget(\"message:{}\".format(x),\"text\").decode('utf-8'))\n",
    "    return recall_results\n"
   ]
  },
  {
   "cell_type": "code",
   "execution_count": 274,
   "metadata": {},
   "outputs": [
    {
     "name": "stdout",
     "output_type": "stream",
     "text": [
      "Rate this idea\n",
      "<class 'numpy.ndarray'>\n"
     ]
    }
   ],
   "source": [
    "results = await semanticSearch(\"Rate this idea\")"
   ]
  },
  {
   "cell_type": "code",
   "execution_count": 272,
   "metadata": {},
   "outputs": [
    {
     "data": {
      "text/plain": [
       "['Rate our idea',\n",
       " 'Suggestion',\n",
       " 'Idea Feedback',\n",
       " 'Looking For Feedback',\n",
       " 'Idea validation - for people who love the outdoors!',\n",
       " 'Idea validation...Second venture, hoping to start off with a blast.',\n",
       " 'saas idea needed',\n",
       " '$10 for 30 minutes of my time',\n",
       " 'Weekly Feedback Post - SaaS Products, Ideas, Companies',\n",
       " 'Weekly Feedback Post - SaaS Products, Ideas, Companies']"
      ]
     },
     "execution_count": 272,
     "metadata": {},
     "output_type": "execute_result"
    }
   ],
   "source": [
    "results"
   ]
  },
  {
   "cell_type": "code",
   "execution_count": 1,
   "metadata": {},
   "outputs": [],
   "source": [
    "import asyncpraw\n",
    "reddit = asyncpraw.Reddit(\n",
    "client_id=\"lhCAjKV2lNlVn0msO6isUQ\",\n",
    "client_secret=\"sDVFmyCNxZSrZ6_Tod19dvqcv3az6w\",\n",
    "user_agent=\"Ironman\",\n",
    ")"
   ]
  },
  {
   "cell_type": "code",
   "execution_count": 2,
   "metadata": {},
   "outputs": [
    {
     "data": {
      "text/plain": [
       "'2qkq6'"
      ]
     },
     "execution_count": 2,
     "metadata": {},
     "output_type": "execute_result"
    }
   ],
   "source": [
    "multireddit = await reddit.subreddit(\"SaaS\",fetch=True)\n",
    "multireddit.id"
   ]
  },
  {
   "cell_type": "code",
   "execution_count": 27,
   "metadata": {},
   "outputs": [],
   "source": [
    "import os\n",
    "from dotenv import load_dotenv\n",
    "from supabase import create_client, Client\n",
    "\n",
    "\n",
    "load_dotenv()  # take environment variables from .env.\n",
    "url: str = os.environ.get(\"SUPABASE_URL\")\n",
    "key: str = os.environ.get(\"SUPABASE_KEY\")\n",
    "supabase: Client = create_client(url, key)\n",
    "\n",
    "channels = supabase.table('Subreddit').select(\"*\").execute()"
   ]
  },
  {
   "cell_type": "code",
   "execution_count": 28,
   "metadata": {},
   "outputs": [
    {
     "data": {
      "text/plain": [
       "[{'id': 4, 'channel_name': 'r/SaaS', 'ext_id': '2qkq6'},\n",
       " {'id': 5, 'channel_name': 'r/Entrepreneur', 'ext_id': '2qldo'}]"
      ]
     },
     "execution_count": 28,
     "metadata": {},
     "output_type": "execute_result"
    }
   ],
   "source": [
    "channels.data"
   ]
  }
 ],
 "metadata": {
  "kernelspec": {
   "display_name": "Python 3.10.6",
   "language": "python",
   "name": "python3"
  },
  "language_info": {
   "codemirror_mode": {
    "name": "ipython",
    "version": 3
   },
   "file_extension": ".py",
   "mimetype": "text/x-python",
   "name": "python",
   "nbconvert_exporter": "python",
   "pygments_lexer": "ipython3",
   "version": "3.10.6"
  },
  "orig_nbformat": 4,
  "vscode": {
   "interpreter": {
    "hash": "c22fe2f0611f05c4a0638a7978c9302d84c064f5d002ca7fffa6bb88b5a37bd2"
   }
  }
 },
 "nbformat": 4,
 "nbformat_minor": 2
}
